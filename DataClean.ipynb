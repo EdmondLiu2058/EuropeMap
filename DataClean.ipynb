{
 "cells": [
  {
   "cell_type": "code",
   "execution_count": null,
   "id": "930ea9dd",
   "metadata": {},
   "outputs": [],
   "source": [
    "from PIL import Image\n",
    "import os\n",
    "\n",
    "# Directory containing your images\n",
    "input_directory = \"input_images/\"\n",
    "\n",
    "# Directory to save the resized images\n",
    "output_directory = \"output_images/\"\n",
    "\n",
    "# Desired size (width, height)\n",
    "desired_size = (300, 300)  # Adjust to your desired dimensions\n",
    "\n",
    "# Ensure the output directory exists\n",
    "os.makedirs(output_directory, exist_ok=True)\n",
    "\n",
    "# Loop through the images in the input directory\n",
    "for filename in os.listdir(input_directory):\n",
    "    if filename.endswith(('.jpg', '.png', '.jpeg')):  # Add more extensions if needed\n",
    "        # Open the image\n",
    "        image = Image.open(os.path.join(input_directory, filename))\n",
    "\n",
    "        # Resize the image to the desired size\n",
    "        resized_image = image.resize(desired_size)\n",
    "\n",
    "        # Save the resized image to the output directory\n",
    "        resized_image.save(os.path.join(output_directory, filename))\n",
    "\n",
    "# All images in the input directory will be opened, resized, and saved to the output directory with the same dimensions."
   ]
  }
 ],
 "metadata": {
  "kernelspec": {
   "display_name": "Python 3 (ipykernel)",
   "language": "python",
   "name": "python3"
  },
  "language_info": {
   "codemirror_mode": {
    "name": "ipython",
    "version": 3
   },
   "file_extension": ".py",
   "mimetype": "text/x-python",
   "name": "python",
   "nbconvert_exporter": "python",
   "pygments_lexer": "ipython3",
   "version": "3.11.3"
  }
 },
 "nbformat": 4,
 "nbformat_minor": 5
}
